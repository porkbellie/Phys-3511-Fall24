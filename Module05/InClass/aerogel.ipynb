{
 "cells": [
  {
   "cell_type": "code",
   "execution_count": 1,
   "id": "ba33c038-0073-47d5-8007-764c01673f66",
   "metadata": {},
   "outputs": [],
   "source": [
    "import numpy as np\n",
    "import matplotlib.pyplot as plt\n",
    "from scipy.optimize import curve_fit #simpliest scipy fitting method\n",
    "from scipy.stats.distributions import chi2\n",
    "import scipy.special as sf # needed for p-value calculation\n",
    "\n",
    "%matplotlib inline"
   ]
  },
  {
   "cell_type": "markdown",
   "id": "e82a912e-79f5-4ddd-a7d8-fda9236cf31e",
   "metadata": {},
   "source": [
    "# Hunt Ectended Formula:\n",
    " $$A\\exp(-Ct/\\lambda^4)\\exp(-Bt/\\lambda^8)$$\n",
    "\n",
    "* $A$ is the clarity \n",
    "* $B$ is related to the amount of absorption\n",
    "* $C$ is related to the amount of scattering\n",
    "* $t$ is the thickness of the tile\n",
    "\n",
    "### Define a function called HuntExtendFrom that takes as argurment: $\\lambda$, $A$, $Bt$, $Ct$, and returns the evaluation of:\n",
    "### $$A\\cdot\\exp(-Ct/(\\lambda)^4\\exp(-Bt/(\\lambda)^8)$$\n",
    "\n",
    "This function has 3 fit paramters $A$, $Ct$, $Bt$, where $Ct$ and $Bt$ have units of $\\mu m$"
   ]
  },
  {
   "cell_type": "markdown",
   "id": "158e9c20-4fb6-4e68-8a31-abd1ea3f45b2",
   "metadata": {},
   "source": [
    "# Hunt Ectended Formula:\n",
    " $$A\\exp(-Ct/\\lambda^4)\\exp(-Bt/\\lambda^8)$$\n",
    "\n",
    "* $A$ is the clarity \n",
    "* $B$ is related to the amount of absorption\n",
    "* $C$ is related to the amount of scattering\n",
    "* $t$ is the thickness of the tile\n",
    "\n",
    "### Define a function called HuntExtendFrom that takes as argurment: $\\lambda$, $A$, $Bt$, $Ct$, and returns the evaluation of:\n",
    "### $$A\\cdot\\exp(-Ct/(\\lambda)^4\\exp(-Bt/(\\lambda)^8)$$\n",
    "\n",
    "This function has 3 fit paramters $A$, $Ct$, $Bt$, where $Ct$ and $Bt$ have units of $\\mu m$"
   ]
  },
  {
   "cell_type": "code",
   "execution_count": 21,
   "id": "33fe4a53-ccb5-4393-9f04-eb4ddd324139",
   "metadata": {},
   "outputs": [],
   "source": [
    "#define the HuntExtendForm function\n",
    "def HuntExtendForm(lambda_, A, Ct, Bt):\n",
    "    return A*np.exp(-Ct/((lambda_)**4))*(np.exp(-Bt/(lambda_)**8))\n"
   ]
  },
  {
   "cell_type": "markdown",
   "id": "a006147c-aa88-451d-90ce-ddf2cb4dfe80",
   "metadata": {},
   "source": [
    "# Below are the measurement results"
   ]
  },
  {
   "cell_type": "code",
   "execution_count": 24,
   "id": "28fc1ff0-5049-49fb-835c-be755bda820a",
   "metadata": {},
   "outputs": [],
   "source": [
    "W = np.array([340.45,432.42,520.45,633.77]) #[nm]\n",
    "W = W*0.001 #convert from nm to um\n",
    "T = np.array([36.05,69.14,83.91,92.26]) #transmittance results [%]\n",
    "dT = 0.001*T #error on the transmittance results [%]"
   ]
  },
  {
   "cell_type": "markdown",
   "id": "9d7e2d28-e39a-40e2-bc80-3916b0df0200",
   "metadata": {},
   "source": [
    "# Fit the data\n",
    "To fit the data we will use the curve_fit function from the SciPy library:\n",
    "### curve_fit(HuntExtendForm, W, T, p0, sigma=dT, absolute_sigma=True)\n",
    "Here we use an additional paramter **p0**, which is an array that contains values that the curve_fit function should use as a starting point when optimizing the fit parameters. For our purposes we will start with $A = 1$, $Bt = 0$, and $Ct = 0$.\n",
    "\n",
    "### Define an initial parameter array p0 = [1,0,0]. Then fit the data and calculate the $\\chi^2,\\;dof,\\;\\chi^2/dof$, and the p-value:\n"
   ]
  },
  {
   "cell_type": "markdown",
   "id": "49483eb2-6b01-4f55-b3b6-04ecf0f4f689",
   "metadata": {},
   "source": [
    "# Fit the data\n",
    "To fit the data we will use the curve_fit function from the SciPy library:\n",
    "### curve_fit(HuntExtendForm, W, T, p0, sigma=dT, absolute_sigma=True)\n",
    "Here we use an additional paramter **p0**, which is an array that contains values that the curve_fit function should use as a starting point when optimizing the fit parameters. For our purposes we will start with $A = 1$, $Bt = 0$, and $Ct = 0$.\n",
    "\n",
    "### Define an initial parameter array p0 = [1,0,0]. Then fit the data and calculate the $\\chi^2,\\;dof,\\;\\chi^2/dof$, and the p-value:\n"
   ]
  },
  {
   "cell_type": "code",
   "execution_count": 81,
   "id": "b994622d-bab2-472f-a287-10557ddef099",
   "metadata": {},
   "outputs": [
    {
     "name": "stdout",
     "output_type": "stream",
     "text": [
      "Fit results:\n",
      "\n",
      " chi2 =  1.1625763145466714 \n",
      " dof =  1 \n",
      " reduced chi2 =  1.1625763145466714 \n",
      " p-value =  0.2809318756028703\n",
      "Fit results:\n",
      "\n",
      "Optimized parameters (A, Ct, Bt): [9.95264712e+01 1.21939453e-02 1.94574222e-05]\n",
      "Covariance of parameters: [[ 1.87229487e-02  1.27183785e-05 -1.38188174e-07]\n",
      " [ 1.27183785e-05  1.08253145e-08 -1.24396162e-10]\n",
      " [-1.38188174e-07 -1.24396162e-10  1.47807172e-12]]\n",
      "Chi2 = 1.1625763145466714\n",
      "Degrees of Freedom (dof) = 1\n",
      "Reduced Chi2 = 1.1625763145466714\n",
      "p-value = 0.2809318756028703\n"
     ]
    },
    {
     "data": {
      "image/png": "[encoded data removed]",
      "text/plain": [
       "<Figure size 640x480 with 1 Axes>"
      ]
     },
     "metadata": {},
     "output_type": "display_data"
    }
   ],
   "source": [
    "#Fit the data\n",
    "p0 = [1,0,0]\n",
    "popt, pcov = curve_fit(HuntExtendForm, W, T, p0, sigma=dT, absolute_sigma=True)\n",
    "\n",
    "#Calculate chi2, dof, chi2/dof, and p-value \n",
    "\n",
    "chisq = np.sum( (T - HuntExtendForm(W, *popt))**2/(dT**2) )\n",
    "dof = len(T) - len(popt)\n",
    "pvalue = sf.gammaincc(dof/2.0, chisq/2.0)\n",
    "\n",
    "print('Fit results:\\n')\n",
    "print(' chi2 = ', chisq, '\\n dof = ', dof, '\\n reduced chi2 = ', chisq/dof, '\\n p-value = ',pvalue)\n",
    "\n",
    "print('Fit results:\\n')\n",
    "print(f'Optimized parameters (A, Ct, Bt): {popt}')\n",
    "print(f'Covariance of parameters: {pcov}')\n",
    "print(f'Chi2 = {chisq}')\n",
    "print(f'Degrees of Freedom (dof) = {dof}')\n",
    "print(f'Reduced Chi2 = {chisq / dof}')\n",
    "print(f'p-value = {pvalue}')\n",
    "\n",
    "#plot the data and fit result on the same graph vs wavelength\n",
    "\n",
    "fig = plt.figure()\n",
    "axes = fig.add_axes([0.1,0.1,0.8,0.8])\n",
    "\n",
    "axes.errorbar(W, T, yerr=dT, fmt='.', label = 'Data')\n",
    "axes.plot(W, HuntExtendForm(W, *popt),'r-',label = 'Fit Result')\n",
    "\n",
    "axes.set_xlabel('wavelength [lambda]')\n",
    "axes.set_ylabel('data')\n",
    "axes.legend();\n",
    "\n",
    "plt.show()\n",
    "\n",
    "\n"
   ]
  },
  {
   "cell_type": "markdown",
   "id": "d1432fd0-db37-4249-9bbf-2a7c6c7ad58b",
   "metadata": {},
   "source": [
    "### Using your $Ct$ fit result we will look at the scattering length vs. wavelength\n",
    "1. Define an array that spans from 200nm to 900nm and contains 700 points\n",
    "2. We need to make sure that our units between $\\lambda$ and $Ct$ are consistant, so make your wavelength array contain wavelengths in $\\mu m$. E.G. $$ 0.001\\cdot \\lambda[nm] = \\lambda[\\mu m]$$\n",
    "3. Now define a scattering length array, where the scattering length is defined as: $$\\Lambda_{scatter} = \\lambda/Ct/t,$$ where $t = 2.51 cm$, and is the tile thickness. This will give the $\\Lambda_{scatter}$ in units of $cm$\n",
    "4. Plot the scattering length vs. wavelength. When plotting us a log scale for the y-axis via. **axes.set_yscale('log')**"
   ]
  },
  {
   "cell_type": "markdown",
   "id": "808493d9-961c-4f5a-abad-b993b34456bb",
   "metadata": {},
   "source": [
    "### Using your $Ct$ fit result we will look at the scattering length vs. wavelength\n",
    "1. Define an array that spans from 200nm to 900nm and contains 700 points\n",
    "2. We need to make sure that our units between $\\lambda$ and $Ct$ are consistant, so make your wavelength array contain wavelengths in $\\mu m$. E.G. $$ 0.001\\cdot \\lambda[nm] = \\lambda[\\mu m]$$\n",
    "3. Now define a scattering length array, where the scattering length is defined as: $$\\Lambda_{scatter} = \\lambda/Ct/t,$$ where $t = 2.51 cm$, and is the tile thickness. This will give the $\\Lambda_{scatter}$ in units of $cm$\n",
    "4. Plot the scattering length vs. wavelength. When plotting us a log scale for the y-axis via. **axes.set_yscale('log')**"
   ]
  },
  {
   "cell_type": "code",
   "execution_count": 71,
   "id": "297a9aa5-ddb7-41c1-abcc-bd89a6eb6430",
   "metadata": {},
   "outputs": [
    {
     "name": "stdout",
     "output_type": "stream",
     "text": [
      "[0.2        0.20100143 0.20200286 0.20300429 0.20400572 0.20500715\n",
      " 0.20600858 0.20701001 0.20801144 0.20901288 0.21001431 0.21101574\n",
      " 0.21201717 0.2130186  0.21402003 0.21502146 0.21602289 0.21702432\n",
      " 0.21802575 0.21902718 0.22002861 0.22103004 0.22203147 0.2230329\n",
      " 0.22403433 0.22503577 0.2260372  0.22703863 0.22804006 0.22904149\n",
      " 0.23004292 0.23104435 0.23204578 0.23304721 0.23404864 0.23505007\n",
      " 0.2360515  0.23705293 0.23805436 0.23905579 0.24005722 0.24105866\n",
      " 0.24206009 0.24306152 0.24406295 0.24506438 0.24606581 0.24706724\n",
      " 0.24806867 0.2490701  0.25007153 0.25107296 0.25207439 0.25307582\n",
      " 0.25407725 0.25507868 0.25608011 0.25708155 0.25808298 0.25908441\n",
      " 0.26008584 0.26108727 0.2620887  0.26309013 0.26409156 0.26509299\n",
      " 0.26609442 0.26709585 0.26809728 0.26909871 0.27010014 0.27110157\n",
      " 0.272103   0.27310443 0.27410587 0.2751073  0.27610873 0.27711016\n",
      " 0.27811159 0.27911302 0.28011445 0.28111588 0.28211731 0.28311874\n",
      " 0.28412017 0.2851216  0.28612303 0.28712446 0.28812589 0.28912732\n",
      " 0.29012876 0.29113019 0.29213162 0.29313305 0.29413448 0.29513591\n",
      " 0.29613734 0.29713877 0.2981402  0.29914163 0.30014306 0.30114449\n",
      " 0.30214592 0.30314735 0.30414878 0.30515021 0.30615165 0.30715308\n",
      " 0.30815451 0.30915594 0.31015737 0.3111588  0.31216023 0.31316166\n",
      " 0.31416309 0.31516452 0.31616595 0.31716738 0.31816881 0.31917024\n",
      " 0.32017167 0.3211731  0.32217454 0.32317597 0.3241774  0.32517883\n",
      " 0.32618026 0.32718169 0.32818312 0.32918455 0.33018598 0.33118741\n",
      " 0.33218884 0.33319027 0.3341917  0.33519313 0.33619456 0.33719599\n",
      " 0.33819742 0.33919886 0.34020029 0.34120172 0.34220315 0.34320458\n",
      " 0.34420601 0.34520744 0.34620887 0.3472103  0.34821173 0.34921316\n",
      " 0.35021459 0.35121602 0.35221745 0.35321888 0.35422031 0.35522175\n",
      " 0.35622318 0.35722461 0.35822604 0.35922747 0.3602289  0.36123033\n",
      " 0.36223176 0.36323319 0.36423462 0.36523605 0.36623748 0.36723891\n",
      " 0.36824034 0.36924177 0.3702432  0.37124464 0.37224607 0.3732475\n",
      " 0.37424893 0.37525036 0.37625179 0.37725322 0.37825465 0.37925608\n",
      " 0.38025751 0.38125894 0.38226037 0.3832618  0.38426323 0.38526466\n",
      " 0.38626609 0.38726753 0.38826896 0.38927039 0.39027182 0.39127325\n",
      " 0.39227468 0.39327611 0.39427754 0.39527897 0.3962804  0.39728183\n",
      " 0.39828326 0.39928469 0.40028612 0.40128755 0.40228898 0.40329041\n",
      " 0.40429185 0.40529328 0.40629471 0.40729614 0.40829757 0.409299\n",
      " 0.41030043 0.41130186 0.41230329 0.41330472 0.41430615 0.41530758\n",
      " 0.41630901 0.41731044 0.41831187 0.4193133  0.42031474 0.42131617\n",
      " 0.4223176  0.42331903 0.42432046 0.42532189 0.42632332 0.42732475\n",
      " 0.42832618 0.42932761 0.43032904 0.43133047 0.4323319  0.43333333\n",
      " 0.43433476 0.43533619 0.43633763 0.43733906 0.43834049 0.43934192\n",
      " 0.44034335 0.44134478 0.44234621 0.44334764 0.44434907 0.4453505\n",
      " 0.44635193 0.44735336 0.44835479 0.44935622 0.45035765 0.45135908\n",
      " 0.45236052 0.45336195 0.45436338 0.45536481 0.45636624 0.45736767\n",
      " 0.4583691  0.45937053 0.46037196 0.46137339 0.46237482 0.46337625\n",
      " 0.46437768 0.46537911 0.46638054 0.46738197 0.4683834  0.46938484\n",
      " 0.47038627 0.4713877  0.47238913 0.47339056 0.47439199 0.47539342\n",
      " 0.47639485 0.47739628 0.47839771 0.47939914 0.48040057 0.481402\n",
      " 0.48240343 0.48340486 0.48440629 0.48540773 0.48640916 0.48741059\n",
      " 0.48841202 0.48941345 0.49041488 0.49141631 0.49241774 0.49341917\n",
      " 0.4944206  0.49542203 0.49642346 0.49742489 0.49842632 0.49942775\n",
      " 0.50042918 0.50143062 0.50243205 0.50343348 0.50443491 0.50543634\n",
      " 0.50643777 0.5074392  0.50844063 0.50944206 0.51044349 0.51144492\n",
      " 0.51244635 0.51344778 0.51444921 0.51545064 0.51645207 0.51745351\n",
      " 0.51845494 0.51945637 0.5204578  0.52145923 0.52246066 0.52346209\n",
      " 0.52446352 0.52546495 0.52646638 0.52746781 0.52846924 0.52947067\n",
      " 0.5304721  0.53147353 0.53247496 0.53347639 0.53447783 0.53547926\n",
      " 0.53648069 0.53748212 0.53848355 0.53948498 0.54048641 0.54148784\n",
      " 0.54248927 0.5434907  0.54449213 0.54549356 0.54649499 0.54749642\n",
      " 0.54849785 0.54949928 0.55050072 0.55150215 0.55250358 0.55350501\n",
      " 0.55450644 0.55550787 0.5565093  0.55751073 0.55851216 0.55951359\n",
      " 0.56051502 0.56151645 0.56251788 0.56351931 0.56452074 0.56552217\n",
      " 0.56652361 0.56752504 0.56852647 0.5695279  0.57052933 0.57153076\n",
      " 0.57253219 0.57353362 0.57453505 0.57553648 0.57653791 0.57753934\n",
      " 0.57854077 0.5795422  0.58054363 0.58154506 0.58254649 0.58354793\n",
      " 0.58454936 0.58555079 0.58655222 0.58755365 0.58855508 0.58955651\n",
      " 0.59055794 0.59155937 0.5925608  0.59356223 0.59456366 0.59556509\n",
      " 0.59656652 0.59756795 0.59856938 0.59957082 0.60057225 0.60157368\n",
      " 0.60257511 0.60357654 0.60457797 0.6055794  0.60658083 0.60758226\n",
      " 0.60858369 0.60958512 0.61058655 0.61158798 0.61258941 0.61359084\n",
      " 0.61459227 0.61559371 0.61659514 0.61759657 0.618598   0.61959943\n",
      " 0.62060086 0.62160229 0.62260372 0.62360515 0.62460658 0.62560801\n",
      " 0.62660944 0.62761087 0.6286123  0.62961373 0.63061516 0.6316166\n",
      " 0.63261803 0.63361946 0.63462089 0.63562232 0.63662375 0.63762518\n",
      " 0.63862661 0.63962804 0.64062947 0.6416309  0.64263233 0.64363376\n",
      " 0.64463519 0.64563662 0.64663805 0.64763948 0.64864092 0.64964235\n",
      " 0.65064378 0.65164521 0.65264664 0.65364807 0.6546495  0.65565093\n",
      " 0.65665236 0.65765379 0.65865522 0.65965665 0.66065808 0.66165951\n",
      " 0.66266094 0.66366237 0.66466381 0.66566524 0.66666667 0.6676681\n",
      " 0.66866953 0.66967096 0.67067239 0.67167382 0.67267525 0.67367668\n",
      " 0.67467811 0.67567954 0.67668097 0.6776824  0.67868383 0.67968526\n",
      " 0.6806867  0.68168813 0.68268956 0.68369099 0.68469242 0.68569385\n",
      " 0.68669528 0.68769671 0.68869814 0.68969957 0.690701   0.69170243\n",
      " 0.69270386 0.69370529 0.69470672 0.69570815 0.69670959 0.69771102\n",
      " 0.69871245 0.69971388 0.70071531 0.70171674 0.70271817 0.7037196\n",
      " 0.70472103 0.70572246 0.70672389 0.70772532 0.70872675 0.70972818\n",
      " 0.71072961 0.71173104 0.71273247 0.71373391 0.71473534 0.71573677\n",
      " 0.7167382  0.71773963 0.71874106 0.71974249 0.72074392 0.72174535\n",
      " 0.72274678 0.72374821 0.72474964 0.72575107 0.7267525  0.72775393\n",
      " 0.72875536 0.7297568  0.73075823 0.73175966 0.73276109 0.73376252\n",
      " 0.73476395 0.73576538 0.73676681 0.73776824 0.73876967 0.7397711\n",
      " 0.74077253 0.74177396 0.74277539 0.74377682 0.74477825 0.74577969\n",
      " 0.74678112 0.74778255 0.74878398 0.74978541 0.75078684 0.75178827\n",
      " 0.7527897  0.75379113 0.75479256 0.75579399 0.75679542 0.75779685\n",
      " 0.75879828 0.75979971 0.76080114 0.76180258 0.76280401 0.76380544\n",
      " 0.76480687 0.7658083  0.76680973 0.76781116 0.76881259 0.76981402\n",
      " 0.77081545 0.77181688 0.77281831 0.77381974 0.77482117 0.7758226\n",
      " 0.77682403 0.77782546 0.7788269  0.77982833 0.78082976 0.78183119\n",
      " 0.78283262 0.78383405 0.78483548 0.78583691 0.78683834 0.78783977\n",
      " 0.7888412  0.78984263 0.79084406 0.79184549 0.79284692 0.79384835\n",
      " 0.79484979 0.79585122 0.79685265 0.79785408 0.79885551 0.79985694\n",
      " 0.80085837 0.8018598  0.80286123 0.80386266 0.80486409 0.80586552\n",
      " 0.80686695 0.80786838 0.80886981 0.80987124 0.81087268 0.81187411\n",
      " 0.81287554 0.81387697 0.8148784  0.81587983 0.81688126 0.81788269\n",
      " 0.81888412 0.81988555 0.82088698 0.82188841 0.82288984 0.82389127\n",
      " 0.8248927  0.82589413 0.82689557 0.827897   0.82889843 0.82989986\n",
      " 0.83090129 0.83190272 0.83290415 0.83390558 0.83490701 0.83590844\n",
      " 0.83690987 0.8379113  0.83891273 0.83991416 0.84091559 0.84191702\n",
      " 0.84291845 0.84391989 0.84492132 0.84592275 0.84692418 0.84792561\n",
      " 0.84892704 0.84992847 0.8509299  0.85193133 0.85293276 0.85393419\n",
      " 0.85493562 0.85593705 0.85693848 0.85793991 0.85894134 0.85994278\n",
      " 0.86094421 0.86194564 0.86294707 0.8639485  0.86494993 0.86595136\n",
      " 0.86695279 0.86795422 0.86895565 0.86995708 0.87095851 0.87195994\n",
      " 0.87296137 0.8739628  0.87496423 0.87596567 0.8769671  0.87796853\n",
      " 0.87896996 0.87997139 0.88097282 0.88197425 0.88297568 0.88397711\n",
      " 0.88497854 0.88597997 0.8869814  0.88798283 0.88898426 0.88998569\n",
      " 0.89098712 0.89198856 0.89298999 0.89399142 0.89499285 0.89599428\n",
      " 0.89699571 0.89799714 0.89899857 0.9       ]\n"
     ]
    },
    {
     "name": "stderr",
     "output_type": "stream",
     "text": [
      "/var/folders/7q/c79yt8xj4939zd73q_l9lqth0000gn/T/ipykernel_10584/4156760557.py:4: RuntimeWarning: divide by zero encountered in divide\n",
      "  sl = w/p0[2]/t #[cm]\n"
     ]
    },
    {
     "data": {
      "image/png": "[encoded data removed]",
      "text/plain": [
       "<Figure size 640x480 with 1 Axes>"
      ]
     },
     "metadata": {},
     "output_type": "display_data"
    }
   ],
   "source": [
    "#create the new wavelength and scattering length arrays\n",
    "t = 2.51 #[cm]\n",
    "Ct_fit = popt[1]\n",
    "w = np.linspace(0.200, 0.900, 700) #[mu m]\n",
    "sl = w/(Ct_fit*t) #[cm]\n",
    "\n",
    "print(w)\n",
    "\n",
    "\n",
    "#plot the scattering length vs. wavelength\n",
    "fig = plt.figure()\n",
    "axes = fig.add_axes([1,1,1,1])\n",
    "axes.plot(w, sl, label='Scattering Length')\n",
    "axes.plot(w, sl,'r-',label = 'Fit Result')\n",
    "\n",
    "axes.set_yscale('log')\n",
    "axes.set_xlabel('wavelength [lambda]')\n",
    "axes.set_ylabel('scattering length')\n",
    "axes.legend();\n",
    "\n"
   ]
  },
  {
   "cell_type": "code",
   "execution_count": null,
   "id": "f9fc7b56-ae02-457c-b183-1b0f3d7d8bc9",
   "metadata": {},
   "outputs": [],
   "source": []
  }
 ],
 "metadata": {
  "kernelspec": {
   "display_name": "Python 3 (ipykernel)",
   "language": "python",
   "name": "python3"
  },
  "language_info": {
   "codemirror_mode": {
    "name": "ipython",
    "version": 3
   },
   "file_extension": ".py",
   "mimetype": "text/x-python",
   "name": "python",
   "nbconvert_exporter": "python",
   "pygments_lexer": "ipython3",
   "version": "3.12.4"
  }
 },
 "nbformat": 4,
 "nbformat_minor": 5
}
