{
 "cells": [
  {
   "cell_type": "code",
   "execution_count": null,
   "id": "ba33c038-0073-47d5-8007-764c01673f66",
   "metadata": {},
   "outputs": [],
   "source": [
    "import numpy as np\n",
    "import matplotlib.pyplot as plt\n",
    "from scipy.optimize import curve_fit #simpliest scipy fitting method\n",
    "from scipy.stats.distributions import chi2\n",
    "import scipy.special as sf # needed for p-value calculation\n",
    "\n",
    "%matplotlib inline"
   ]
  },
  {
   "cell_type": "markdown",
   "id": "0068175f-7fc3-4438-9999-7191f76fb8b3",
   "metadata": {},
   "source": [
    "# Hunt Ectended Formula:\n",
    " $$A\\exp(-Ct/\\lambda^4)\\exp(-Bt/\\lambda^8)$$\n",
    "\n",
    "* $A$ is the clarity \n",
    "* $B$ is related to the amount of absorption\n",
    "* $C$ is related to the amount of scattering\n",
    "* $t$ is the thickness of the tile\n",
    "\n",
    "### Define a function called HuntExtendFrom that takes as argurment: $\\lambda$, $A$, $Bt$, $Ct$, and returns the evaluation of:\n",
    "### $$A\\cdot\\exp(-Ct/(\\lambda)^4\\exp(-Bt/(\\lambda)^8)$$\n",
    "\n",
    "This function has 3 fit paramters $A$, $Ct$, $Bt$, where $Ct$ and $Bt$ have units of $\\mu m$"
   ]
  },
  {
   "cell_type": "code",
   "execution_count": null,
   "id": "33fe4a53-ccb5-4393-9f04-eb4ddd324139",
   "metadata": {},
   "outputs": [],
   "source": [
    "#define the HuntExtendForm function\n",
    "\n"
   ]
  },
  {
   "cell_type": "markdown",
   "id": "a006147c-aa88-451d-90ce-ddf2cb4dfe80",
   "metadata": {},
   "source": [
    "# Below are the measurement results"
   ]
  },
  {
   "cell_type": "code",
   "execution_count": null,
   "id": "28fc1ff0-5049-49fb-835c-be755bda820a",
   "metadata": {},
   "outputs": [],
   "source": [
    "W = np.array([340.45,432.42,520.45,633.77]) #[nm]\n",
    "W = W*0.001 #convert from nm to um\n",
    "T = np.array([36.05,69.14,83.91,92.26]) #transmittance results [%]\n",
    "dT = 0.001*T #error on the transmittance results [%]"
   ]
  },
  {
   "cell_type": "markdown",
   "id": "9d7e2d28-e39a-40e2-bc80-3916b0df0200",
   "metadata": {},
   "source": [
    "# Fit the data\n",
    "To fit the data we will use the curve_fit function from the SciPy library:\n",
    "### curve_fit(HuntExtendForm, W, T, p0, sigma=dT, absolute_sigma=True)\n",
    "Here we use an additional paramter **p0**, which is an array that contains values that the curve_fit function should use as a starting point when optimizing the fit parameters. For our purposes we will start with $A = 1$, $Bt = 0$, and $Ct = 0$.\n",
    "\n",
    "### Define an initial parameter array p0 = [1,0,0]. Then fit the data and calculate the $\\chi^2,\\;dof,\\;\\chi^2/dof$, and the p-value:\n"
   ]
  },
  {
   "cell_type": "code",
   "execution_count": null,
   "id": "b994622d-bab2-472f-a287-10557ddef099",
   "metadata": {},
   "outputs": [],
   "source": [
    "#Fit the data\n",
    "\n",
    "#Calculate chi2, dof, chi2/dof, and p-value \n",
    "\n",
    "\n",
    "\n",
    "\n",
    "#plot the data and fit result on the same graph vs wavelength\n",
    "\n",
    "\n",
    "\n"
   ]
  },
  {
   "cell_type": "markdown",
   "id": "d1432fd0-db37-4249-9bbf-2a7c6c7ad58b",
   "metadata": {},
   "source": [
    "### Using your $Ct$ fit result we will look at the scattering length vs. wavelength\n",
    "1. Define an array that spans from 200nm to 900nm and contains 700 points\n",
    "2. We need to make sure that our units between $\\lambda$ and $Ct$ are consistant, so make your wavelength array contain wavelengths in $\\mu m$. E.G. $$ 0.001\\cdot \\lambda[nm] = \\lambda[\\mu m]$$\n",
    "3. Now define a scattering length array, where the scattering length is defined as: $$\\Lambda_{scatter} = \\lambda/Ct/t,$$ where $t = 2.51 cm$, and is the tile thickness. This will give the $\\Lambda_{scatter}$ in units of $cm$\n",
    "4. Plot the scattering length vs. wavelength. When plotting us a log scale for the y-axis via. **axes.set_yscale('log')**"
   ]
  },
  {
   "cell_type": "code",
   "execution_count": null,
   "id": "297a9aa5-ddb7-41c1-abcc-bd89a6eb6430",
   "metadata": {},
   "outputs": [],
   "source": [
    "#create the new wavelegth and scattering length arrays\n",
    "t = 2.51 #[cm]\n",
    "\n",
    "\n",
    "#plot the scattering length vs. wavelength\n"
   ]
  },
  {
   "cell_type": "code",
   "execution_count": null,
   "id": "f9fc7b56-ae02-457c-b183-1b0f3d7d8bc9",
   "metadata": {},
   "outputs": [],
   "source": []
  }
 ],
 "metadata": {
  "kernelspec": {
   "display_name": "Python 3 (ipykernel)",
   "language": "python",
   "name": "python3"
  },
  "language_info": {
   "codemirror_mode": {
    "name": "ipython",
    "version": 3
   },
   "file_extension": ".py",
   "mimetype": "text/x-python",
   "name": "python",
   "nbconvert_exporter": "python",
   "pygments_lexer": "ipython3",
   "version": "3.11.8"
  }
 },
 "nbformat": 4,
 "nbformat_minor": 5
}
