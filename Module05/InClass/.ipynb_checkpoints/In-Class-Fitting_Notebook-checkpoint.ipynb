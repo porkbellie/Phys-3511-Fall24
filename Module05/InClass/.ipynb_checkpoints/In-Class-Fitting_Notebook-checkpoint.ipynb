{
 "cells": [
  {
   "cell_type": "markdown",
   "metadata": {},
   "source": [
    " taken from https://astrofrog.github.io/py4sci/\n",
    " \n",
    " expanded on by implimenting fit quality analysis (p-value) and estimating background contamination"
   ]
  },
  {
   "cell_type": "markdown",
   "metadata": {},
   "source": [
    "# Particle Decay"
   ]
  },
  {
   "cell_type": "code",
   "execution_count": null,
   "metadata": {},
   "outputs": [],
   "source": [
    "import numpy as np\n",
    "import matplotlib.pyplot as plt\n",
    "\n",
    "from scipy import optimize\n",
    "from scipy.optimize import curve_fit #simpliest scipy fitting method\n",
    "import scipy.special as sf # needed for p-value calculation\n",
    "\n",
    "%matplotlib notebook\n"
   ]
  },
  {
   "cell_type": "code",
   "execution_count": null,
   "metadata": {},
   "outputs": [],
   "source": [
    "#read in data\n",
    "t, N, N_error = np.loadtxt('data/decay_data.txt', unpack=True)\n",
    "\n",
    "fig = plt.figure()\n",
    "axes = fig.add_axes([0.15,0.1,0.8,0.8])\n",
    "\n",
    "axes.errorbar(t, N, yerr = N_error, fmt='.')\n",
    "axes.set_xlabel('time (d)')\n",
    "axes.set_ylabel('Particles');"
   ]
  },
  {
   "cell_type": "markdown",
   "metadata": {},
   "source": [
    "# Modify the Fit Function\n",
    "\n",
    "Because it looks as though our data, which we beilive should follow an exponetial distribution is sitting on top of a background, a pure exponential fit may not describe the data well. Assuming that the background is a constant value write a function that returns an exponential with a constant background term added. Your function should take parameters:\n",
    "* $t$ = time array\n",
    "* $a$ = constant parameter to be determined by fitting\n",
    "* $b$ = constant parameter to be determined by fitting\n",
    "* bkg = constant parameter to be determined by fitting\n",
    "\n",
    "and return the evaluation of $$a \\cdot exp(-t/b) + bkg $$"
   ]
  },
  {
   "cell_type": "code",
   "execution_count": null,
   "metadata": {},
   "outputs": [],
   "source": [
    "###=====work needed=====###\n",
    "def func_exp_bkg(t,a,b,bkg):\n",
    "#enter your code"
   ]
  },
  {
   "cell_type": "markdown",
   "metadata": {},
   "source": [
    "### You should be able to fit the function by executing the cell below"
   ]
  },
  {
   "cell_type": "code",
   "execution_count": null,
   "metadata": {},
   "outputs": [],
   "source": [
    "###=====work needed=====###\n",
    "popt2, pcov2 = curve_fit()"
   ]
  },
  {
   "cell_type": "code",
   "execution_count": null,
   "metadata": {},
   "outputs": [],
   "source": [
    "print('Second fit:')\n",
    "print(popt2)\n",
    "print('\\n')\n",
    "print(pcov2)"
   ]
  },
  {
   "cell_type": "code",
   "execution_count": null,
   "metadata": {},
   "outputs": [],
   "source": [
    "Fit2_tau_error = pcov2[1,1]**0.5\n",
    "Fit2_tau = popt2[1]\n",
    "print('\\n tau = ',Fit2_tau,'1/d +/-', Fit2_tau_error,' 1/d')\n",
    "\n",
    "Fit2_t = popt2[1]*np.log(2)\n",
    "Fit2_t_error = Fit2_t * np.sqrt((Fit2_tau_error/Fit2_tau)**2)\n",
    "print('\\n Half live = ', Fit2_t, 'd +/- ', Fit2_t_error,' d \\n')"
   ]
  },
  {
   "cell_type": "markdown",
   "metadata": {},
   "source": [
    "## Complete the code block below to draw the data and fit result on the same plot"
   ]
  },
  {
   "cell_type": "code",
   "execution_count": null,
   "metadata": {},
   "outputs": [],
   "source": [
    "fig = plt.figure()\n",
    "axes = fig.add_axes([0.1,0.1,0.8,0.8])\n",
    "\n",
    "axes.errorbar(t, N, yerr= N_error, fmt='.', label = 'Data')\n",
    "axes.plot(t, func_exp_bkg(t, *popt2),'r-',label = 'Fit')\n",
    "\n",
    "axes.set_title('Second Fit')\n",
    "axes.set_xlabel('time [d]')\n",
    "axes.set_ylabel('Particles')\n",
    "axes.legend();\n"
   ]
  },
  {
   "cell_type": "markdown",
   "metadata": {},
   "source": [
    "### You can execute the code below to assess the fit via $\\chi^2$ test and p-value"
   ]
  },
  {
   "cell_type": "code",
   "execution_count": null,
   "metadata": {},
   "outputs": [],
   "source": [
    "###=====work needed=====###\n",
    "\n",
    "#check chiq\n",
    "#calculate chi2/dof\n",
    "\n",
    "#p-value\n",
    "#evaluate the p-value"
   ]
  },
  {
   "cell_type": "code",
   "execution_count": null,
   "metadata": {},
   "outputs": [],
   "source": []
  }
 ],
 "metadata": {
  "kernelspec": {
   "display_name": "Python 3 (ipykernel)",
   "language": "python",
   "name": "python3"
  },
  "language_info": {
   "codemirror_mode": {
    "name": "ipython",
    "version": 3
   },
   "file_extension": ".py",
   "mimetype": "text/x-python",
   "name": "python",
   "nbconvert_exporter": "python",
   "pygments_lexer": "ipython3",
   "version": "3.9.13"
  }
 },
 "nbformat": 4,
 "nbformat_minor": 4
}
