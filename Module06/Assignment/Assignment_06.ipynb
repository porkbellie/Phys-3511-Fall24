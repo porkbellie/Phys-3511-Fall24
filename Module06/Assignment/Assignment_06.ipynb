{
 "cells": [
  {
   "cell_type": "markdown",
   "metadata": {},
   "source": [
    "# Assignment 6:  Due Thursday 10/10\n",
    "\n",
    "In this assignment you will become familiar with the Pandas library through the exploration of a Nobel prize data set. \n",
    "\n",
    "This data set was taken from the Kaggle website (https://www.kaggle.com/). If you are interested in data science and / or analysis, this website offers tons of data sets in various formats that you can access. They even post compititions that you can enter, some with money prizes awarded.\n",
    "\n",
    "The libraries needed for this assignment are listed below."
   ]
  },
  {
   "cell_type": "code",
   "execution_count": 1,
   "metadata": {},
   "outputs": [],
   "source": [
    "import pandas as pd\n",
    "import numpy as np\n",
    "import matplotlib.pyplot as plt\n",
    "\n",
    "%matplotlib inline"
   ]
  },
  {
   "cell_type": "markdown",
   "metadata": {},
   "source": [
    "# 1a)\n",
    "\n",
    "Read in the data set 'data/nobel.csv' into a DataFrame using Pandas ."
   ]
  },
  {
   "cell_type": "code",
   "execution_count": 12,
   "metadata": {},
   "outputs": [
    {
     "name": "stdout",
     "output_type": "stream",
     "text": [
      "/Users/elliehan/PHYS3511/Phys-3511-Fall24/Module06/Assignment\n",
      "/Users/elliehan/PHYS3511/Phys-3511-Fall24/Module06/Assignment/data/nobel.csv\n"
     ]
    }
   ],
   "source": [
    "inpath = %pwd\n",
    "print(inpath)\n",
    "infile = inpath + '/data/nobel.csv'\n",
    "print(infile)\n",
    "df = pd.read_csv(infile)"
   ]
  },
  {
   "cell_type": "markdown",
   "metadata": {},
   "source": [
    "# 1b)\n",
    "\n",
    "Display below the output from the DataFrame functions *info*."
   ]
  },
  {
   "cell_type": "code",
   "execution_count": 16,
   "metadata": {},
   "outputs": [
    {
     "name": "stdout",
     "output_type": "stream",
     "text": [
      "<class 'pandas.core.frame.DataFrame'>\n",
      "RangeIndex: 911 entries, 0 to 910\n",
      "Data columns (total 18 columns):\n",
      " #   Column                Non-Null Count  Dtype \n",
      "---  ------                --------------  ----- \n",
      " 0   year                  911 non-null    int64 \n",
      " 1   category              911 non-null    object\n",
      " 2   prize                 911 non-null    object\n",
      " 3   motivation            823 non-null    object\n",
      " 4   prize_share           911 non-null    object\n",
      " 5   laureate_id           911 non-null    int64 \n",
      " 6   laureate_type         911 non-null    object\n",
      " 7   full_name             911 non-null    object\n",
      " 8   birth_date            883 non-null    object\n",
      " 9   birth_city            883 non-null    object\n",
      " 10  birth_country         885 non-null    object\n",
      " 11  sex                   885 non-null    object\n",
      " 12  organization_name     665 non-null    object\n",
      " 13  organization_city     667 non-null    object\n",
      " 14  organization_country  667 non-null    object\n",
      " 15  death_date            593 non-null    object\n",
      " 16  death_city            576 non-null    object\n",
      " 17  death_country         582 non-null    object\n",
      "dtypes: int64(2), object(16)\n",
      "memory usage: 128.2+ KB\n"
     ]
    }
   ],
   "source": [
    "df.info()"
   ]
  },
  {
   "cell_type": "markdown",
   "metadata": {},
   "source": [
    "# 1c)\n",
    "\n",
    "Show the first 5 listings of the dataset."
   ]
  },
  {
   "cell_type": "code",
   "execution_count": 20,
   "metadata": {},
   "outputs": [
    {
     "data": {
      "text/html": [
       "<div>\n",
       "<style scoped>\n",
       "    .dataframe tbody tr th:only-of-type {\n",
       "        vertical-align: middle;\n",
       "    }\n",
       "\n",
       "    .dataframe tbody tr th {\n",
       "        vertical-align: top;\n",
       "    }\n",
       "\n",
       "    .dataframe thead th {\n",
       "        text-align: right;\n",
       "    }\n",
       "</style>\n",
       "<table border=\"1\" class=\"dataframe\">\n",
       "  <thead>\n",
       "    <tr style=\"text-align: right;\">\n",
       "      <th></th>\n",
       "      <th>year</th>\n",
       "      <th>category</th>\n",
       "      <th>prize</th>\n",
       "      <th>motivation</th>\n",
       "      <th>prize_share</th>\n",
       "      <th>laureate_id</th>\n",
       "      <th>laureate_type</th>\n",
       "      <th>full_name</th>\n",
       "      <th>birth_date</th>\n",
       "      <th>birth_city</th>\n",
       "      <th>birth_country</th>\n",
       "      <th>sex</th>\n",
       "      <th>organization_name</th>\n",
       "      <th>organization_city</th>\n",
       "      <th>organization_country</th>\n",
       "      <th>death_date</th>\n",
       "      <th>death_city</th>\n",
       "      <th>death_country</th>\n",
       "    </tr>\n",
       "  </thead>\n",
       "  <tbody>\n",
       "    <tr>\n",
       "      <th>0</th>\n",
       "      <td>1901</td>\n",
       "      <td>Chemistry</td>\n",
       "      <td>The Nobel Prize in Chemistry 1901</td>\n",
       "      <td>\"in recognition of the extraordinary services ...</td>\n",
       "      <td>1/1</td>\n",
       "      <td>160</td>\n",
       "      <td>Individual</td>\n",
       "      <td>Jacobus Henricus van 't Hoff</td>\n",
       "      <td>1852-08-30</td>\n",
       "      <td>Rotterdam</td>\n",
       "      <td>Netherlands</td>\n",
       "      <td>Male</td>\n",
       "      <td>Berlin University</td>\n",
       "      <td>Berlin</td>\n",
       "      <td>Germany</td>\n",
       "      <td>1911-03-01</td>\n",
       "      <td>Berlin</td>\n",
       "      <td>Germany</td>\n",
       "    </tr>\n",
       "    <tr>\n",
       "      <th>1</th>\n",
       "      <td>1901</td>\n",
       "      <td>Literature</td>\n",
       "      <td>The Nobel Prize in Literature 1901</td>\n",
       "      <td>\"in special recognition of his poetic composit...</td>\n",
       "      <td>1/1</td>\n",
       "      <td>569</td>\n",
       "      <td>Individual</td>\n",
       "      <td>Sully Prudhomme</td>\n",
       "      <td>1839-03-16</td>\n",
       "      <td>Paris</td>\n",
       "      <td>France</td>\n",
       "      <td>Male</td>\n",
       "      <td>NaN</td>\n",
       "      <td>NaN</td>\n",
       "      <td>NaN</td>\n",
       "      <td>1907-09-07</td>\n",
       "      <td>Châtenay</td>\n",
       "      <td>France</td>\n",
       "    </tr>\n",
       "    <tr>\n",
       "      <th>2</th>\n",
       "      <td>1901</td>\n",
       "      <td>Medicine</td>\n",
       "      <td>The Nobel Prize in Physiology or Medicine 1901</td>\n",
       "      <td>\"for his work on serum therapy, especially its...</td>\n",
       "      <td>1/1</td>\n",
       "      <td>293</td>\n",
       "      <td>Individual</td>\n",
       "      <td>Emil Adolf von Behring</td>\n",
       "      <td>1854-03-15</td>\n",
       "      <td>Hansdorf (Lawice)</td>\n",
       "      <td>Prussia (Poland)</td>\n",
       "      <td>Male</td>\n",
       "      <td>Marburg University</td>\n",
       "      <td>Marburg</td>\n",
       "      <td>Germany</td>\n",
       "      <td>1917-03-31</td>\n",
       "      <td>Marburg</td>\n",
       "      <td>Germany</td>\n",
       "    </tr>\n",
       "    <tr>\n",
       "      <th>3</th>\n",
       "      <td>1901</td>\n",
       "      <td>Peace</td>\n",
       "      <td>The Nobel Peace Prize 1901</td>\n",
       "      <td>NaN</td>\n",
       "      <td>1/2</td>\n",
       "      <td>462</td>\n",
       "      <td>Individual</td>\n",
       "      <td>Jean Henry Dunant</td>\n",
       "      <td>1828-05-08</td>\n",
       "      <td>Geneva</td>\n",
       "      <td>Switzerland</td>\n",
       "      <td>Male</td>\n",
       "      <td>NaN</td>\n",
       "      <td>NaN</td>\n",
       "      <td>NaN</td>\n",
       "      <td>1910-10-30</td>\n",
       "      <td>Heiden</td>\n",
       "      <td>Switzerland</td>\n",
       "    </tr>\n",
       "    <tr>\n",
       "      <th>4</th>\n",
       "      <td>1901</td>\n",
       "      <td>Peace</td>\n",
       "      <td>The Nobel Peace Prize 1901</td>\n",
       "      <td>NaN</td>\n",
       "      <td>1/2</td>\n",
       "      <td>463</td>\n",
       "      <td>Individual</td>\n",
       "      <td>Frédéric Passy</td>\n",
       "      <td>1822-05-20</td>\n",
       "      <td>Paris</td>\n",
       "      <td>France</td>\n",
       "      <td>Male</td>\n",
       "      <td>NaN</td>\n",
       "      <td>NaN</td>\n",
       "      <td>NaN</td>\n",
       "      <td>1912-06-12</td>\n",
       "      <td>Paris</td>\n",
       "      <td>France</td>\n",
       "    </tr>\n",
       "  </tbody>\n",
       "</table>\n",
       "</div>"
      ],
      "text/plain": [
       "   year    category                                           prize  \\\n",
       "0  1901   Chemistry               The Nobel Prize in Chemistry 1901   \n",
       "1  1901  Literature              The Nobel Prize in Literature 1901   \n",
       "2  1901    Medicine  The Nobel Prize in Physiology or Medicine 1901   \n",
       "3  1901       Peace                      The Nobel Peace Prize 1901   \n",
       "4  1901       Peace                      The Nobel Peace Prize 1901   \n",
       "\n",
       "                                          motivation prize_share  laureate_id  \\\n",
       "0  \"in recognition of the extraordinary services ...         1/1          160   \n",
       "1  \"in special recognition of his poetic composit...         1/1          569   \n",
       "2  \"for his work on serum therapy, especially its...         1/1          293   \n",
       "3                                                NaN         1/2          462   \n",
       "4                                                NaN         1/2          463   \n",
       "\n",
       "  laureate_type                     full_name  birth_date         birth_city  \\\n",
       "0    Individual  Jacobus Henricus van 't Hoff  1852-08-30          Rotterdam   \n",
       "1    Individual               Sully Prudhomme  1839-03-16              Paris   \n",
       "2    Individual        Emil Adolf von Behring  1854-03-15  Hansdorf (Lawice)   \n",
       "3    Individual             Jean Henry Dunant  1828-05-08             Geneva   \n",
       "4    Individual                Frédéric Passy  1822-05-20              Paris   \n",
       "\n",
       "      birth_country   sex   organization_name organization_city  \\\n",
       "0       Netherlands  Male   Berlin University            Berlin   \n",
       "1            France  Male                 NaN               NaN   \n",
       "2  Prussia (Poland)  Male  Marburg University           Marburg   \n",
       "3       Switzerland  Male                 NaN               NaN   \n",
       "4            France  Male                 NaN               NaN   \n",
       "\n",
       "  organization_country  death_date death_city death_country  \n",
       "0              Germany  1911-03-01     Berlin       Germany  \n",
       "1                  NaN  1907-09-07   Châtenay        France  \n",
       "2              Germany  1917-03-31    Marburg       Germany  \n",
       "3                  NaN  1910-10-30     Heiden   Switzerland  \n",
       "4                  NaN  1912-06-12      Paris        France  "
      ]
     },
     "execution_count": 20,
     "metadata": {},
     "output_type": "execute_result"
    }
   ],
   "source": [
    "df.head(5)"
   ]
  },
  {
   "cell_type": "markdown",
   "metadata": {},
   "source": [
    "# Problem 2\n",
    "\n",
    "How many null ('NaN') values there are in each *catagory*? What is the total number of Null values in the DataFrame?"
   ]
  },
  {
   "cell_type": "code",
   "execution_count": 26,
   "metadata": {},
   "outputs": [
    {
     "name": "stdout",
     "output_type": "stream",
     "text": [
      "year                      0\n",
      "category                  0\n",
      "prize                     0\n",
      "motivation               88\n",
      "prize_share               0\n",
      "laureate_id               0\n",
      "laureate_type             0\n",
      "full_name                 0\n",
      "birth_date               28\n",
      "birth_city               28\n",
      "birth_country            26\n",
      "sex                      26\n",
      "organization_name       246\n",
      "organization_city       244\n",
      "organization_country    244\n",
      "death_date              318\n",
      "death_city              335\n",
      "death_country           329\n",
      "dtype: int64\n"
     ]
    }
   ],
   "source": [
    "print(df.isna().sum())"
   ]
  },
  {
   "cell_type": "code",
   "execution_count": 30,
   "metadata": {},
   "outputs": [
    {
     "name": "stdout",
     "output_type": "stream",
     "text": [
      "     year   category                                              prize  \\\n",
      "0    1901  Chemistry                  The Nobel Prize in Chemistry 1901   \n",
      "2    1901   Medicine     The Nobel Prize in Physiology or Medicine 1901   \n",
      "5    1901    Physics                    The Nobel Prize in Physics 1901   \n",
      "6    1902  Chemistry                  The Nobel Prize in Chemistry 1902   \n",
      "8    1902   Medicine     The Nobel Prize in Physiology or Medicine 1902   \n",
      "..    ...        ...                                                ...   \n",
      "819  2009  Economics  The Sveriges Riksbank Prize in Economic Scienc...   \n",
      "827  2009    Physics                    The Nobel Prize in Physics 2009   \n",
      "833  2010  Economics  The Sveriges Riksbank Prize in Economic Scienc...   \n",
      "836  2010   Medicine     The Nobel Prize in Physiology or Medicine 2010   \n",
      "856  2012  Economics  The Sveriges Riksbank Prize in Economic Scienc...   \n",
      "\n",
      "                                            motivation prize_share  \\\n",
      "0    \"in recognition of the extraordinary services ...         1/1   \n",
      "2    \"for his work on serum therapy, especially its...         1/1   \n",
      "5    \"in recognition of the extraordinary services ...         1/1   \n",
      "6    \"in recognition of the extraordinary services ...         1/1   \n",
      "8    \"for his work on malaria, by which he has show...         1/1   \n",
      "..                                                 ...         ...   \n",
      "819  \"for her analysis of economic governance, espe...         1/2   \n",
      "827  \"for the invention of an imaging semiconductor...         1/4   \n",
      "833  \"for their analysis of markets with search fri...         1/3   \n",
      "836    \"for the development of in vitro fertilization\"         1/1   \n",
      "856  \"for the theory of stable allocations and the ...         1/2   \n",
      "\n",
      "     laureate_id laureate_type                     full_name  birth_date  \\\n",
      "0            160    Individual  Jacobus Henricus van 't Hoff  1852-08-30   \n",
      "2            293    Individual        Emil Adolf von Behring  1854-03-15   \n",
      "5              1    Individual        Wilhelm Conrad Röntgen  1845-03-27   \n",
      "6            161    Individual          Hermann Emil Fischer  1852-10-09   \n",
      "8            294    Individual                   Ronald Ross  1857-05-13   \n",
      "..           ...           ...                           ...         ...   \n",
      "819          846    Individual                 Elinor Ostrom  1933-08-07   \n",
      "827          839    Individual              Willard S. Boyle  1924-08-19   \n",
      "833          857    Individual             Dale T. Mortensen  1939-02-02   \n",
      "836          848    Individual             Robert G. Edwards  1925-09-27   \n",
      "856          883    Individual              Lloyd S. Shapley  1923-06-02   \n",
      "\n",
      "             birth_city             birth_country     sex  \\\n",
      "0             Rotterdam               Netherlands    Male   \n",
      "2     Hansdorf (Lawice)          Prussia (Poland)    Male   \n",
      "5    Lennep (Remscheid)         Prussia (Germany)    Male   \n",
      "6            Euskirchen         Prussia (Germany)    Male   \n",
      "8                Almora                     India    Male   \n",
      "..                  ...                       ...     ...   \n",
      "819     Los Angeles, CA  United States of America  Female   \n",
      "827         Amherst, NS                    Canada    Male   \n",
      "833      Enterprise, OR  United States of America    Male   \n",
      "836              Batley            United Kingdom    Male   \n",
      "856       Cambridge, MA  United States of America    Male   \n",
      "\n",
      "            organization_name organization_city      organization_country  \\\n",
      "0           Berlin University            Berlin                   Germany   \n",
      "2          Marburg University           Marburg                   Germany   \n",
      "5           Munich University            Munich                   Germany   \n",
      "6           Berlin University            Berlin                   Germany   \n",
      "8          University College         Liverpool            United Kingdom   \n",
      "..                        ...               ...                       ...   \n",
      "819        Indiana University   Bloomington, IN  United States of America   \n",
      "827         Bell Laboratories   Murray Hill, NJ  United States of America   \n",
      "833   Northwestern University      Evanston, IL  United States of America   \n",
      "836   University of Cambridge         Cambridge            United Kingdom   \n",
      "856  University of California   Los Angeles, CA  United States of America   \n",
      "\n",
      "     death_date       death_city             death_country  \n",
      "0    1911-03-01           Berlin                   Germany  \n",
      "2    1917-03-31          Marburg                   Germany  \n",
      "5    1923-02-10           Munich                   Germany  \n",
      "6    1919-07-15           Berlin                   Germany  \n",
      "8    1932-09-16     Putney Heath            United Kingdom  \n",
      "..          ...              ...                       ...  \n",
      "819  2012-06-12  Bloomington, IN  United States of America  \n",
      "827  2011-05-07        Truro, NS                    Canada  \n",
      "833  2014-01-09     Wilmette, IL  United States of America  \n",
      "836  2013-04-10        Cambridge            United Kingdom  \n",
      "856  2016-03-12       Tucson, AZ  United States of America  \n",
      "\n",
      "[404 rows x 18 columns]\n"
     ]
    }
   ],
   "source": []
  },
  {
   "cell_type": "markdown",
   "metadata": {},
   "source": [
    "# Problem 3\n",
    "\n",
    "Make a histogram of the number of nobel prizes awarded per year. Around which decade (1900, 1910, 1920, ...) were the least amount of prizes awarded?"
   ]
  },
  {
   "cell_type": "code",
   "execution_count": null,
   "metadata": {},
   "outputs": [],
   "source": []
  },
  {
   "cell_type": "markdown",
   "metadata": {},
   "source": [
    "# Problem 4\n",
    "\n",
    "Use groupby method to printout the number of prizes awarded to each category. Which categroy has the most prizes?"
   ]
  },
  {
   "cell_type": "code",
   "execution_count": null,
   "metadata": {},
   "outputs": [],
   "source": []
  },
  {
   "cell_type": "code",
   "execution_count": null,
   "metadata": {},
   "outputs": [],
   "source": []
  },
  {
   "cell_type": "markdown",
   "metadata": {},
   "source": [
    "# Problem 5\n",
    "\n",
    "Find percentage of the prizes were awarded to 1, 2, 3, and 4 people? Meaning what percentage of 1/1, 1/2, 1/3, and 1/4 prize_shares are there?"
   ]
  },
  {
   "cell_type": "code",
   "execution_count": null,
   "metadata": {},
   "outputs": [],
   "source": []
  },
  {
   "cell_type": "markdown",
   "metadata": {},
   "source": [
    "# Problem 6\n",
    "\n",
    "Determine how many males and females won the prize. Does the sum of male and female prizes add up to the total entries? If not, why?\n",
    "\n",
    "On the same graph make histograms for the numbber of males and females that won the prize each year. "
   ]
  },
  {
   "cell_type": "code",
   "execution_count": null,
   "metadata": {},
   "outputs": [],
   "source": []
  },
  {
   "cell_type": "markdown",
   "metadata": {},
   "source": [
    "# Problem 7\n",
    "\n",
    "How many prizes were won by those whose birth country was United States of America?"
   ]
  },
  {
   "cell_type": "code",
   "execution_count": null,
   "metadata": {},
   "outputs": [],
   "source": []
  },
  {
   "cell_type": "markdown",
   "metadata": {},
   "source": [
    "# Problem 8\n",
    "\n",
    "Determine the age that each of the prize winners was when they won the prize. Find the youngest and oldest to win the prize. Find the mean age to win the prize, and the standard deviation of it. Make a histogram of the age each person was when they won the prize.\n",
    "\n",
    "### Hint: You can use Pandas DatetimeIndex method to extract the year from the date format yyyy-mm-dd\n",
    "> pd.DatetimeIndex(date).year\n",
    "\n",
    "Where *date* is given in a formate like year-month-day, the above will returen the year, hence the *.year* in the call above. Use 'shit+tab' on pandas.DatetimeIndex to learn more."
   ]
  },
  {
   "cell_type": "code",
   "execution_count": null,
   "metadata": {},
   "outputs": [],
   "source": []
  },
  {
   "cell_type": "code",
   "execution_count": null,
   "metadata": {},
   "outputs": [],
   "source": []
  },
  {
   "cell_type": "code",
   "execution_count": null,
   "metadata": {},
   "outputs": [],
   "source": []
  },
  {
   "cell_type": "markdown",
   "metadata": {},
   "source": [
    "# Problem 9\n",
    "\n",
    "Make a copy of the current DataFrame. Then drop the column *lauret_id* from the copied DataFrame (do this inplace so this column is gone)."
   ]
  },
  {
   "cell_type": "code",
   "execution_count": null,
   "metadata": {},
   "outputs": [],
   "source": []
  },
  {
   "cell_type": "code",
   "execution_count": null,
   "metadata": {},
   "outputs": [],
   "source": []
  },
  {
   "cell_type": "markdown",
   "metadata": {},
   "source": [
    "# Problem 10\n",
    "\n",
    "Add the age column you calculated in Problem 8 to the DataFrame."
   ]
  },
  {
   "cell_type": "code",
   "execution_count": null,
   "metadata": {},
   "outputs": [],
   "source": []
  },
  {
   "cell_type": "code",
   "execution_count": null,
   "metadata": {},
   "outputs": [],
   "source": []
  },
  {
   "cell_type": "code",
   "execution_count": null,
   "metadata": {},
   "outputs": [],
   "source": []
  }
 ],
 "metadata": {
  "kernelspec": {
   "display_name": "Python 3 (ipykernel)",
   "language": "python",
   "name": "python3"
  },
  "language_info": {
   "codemirror_mode": {
    "name": "ipython",
    "version": 3
   },
   "file_extension": ".py",
   "mimetype": "text/x-python",
   "name": "python",
   "nbconvert_exporter": "python",
   "pygments_lexer": "ipython3",
   "version": "3.12.4"
  }
 },
 "nbformat": 4,
 "nbformat_minor": 4
}
