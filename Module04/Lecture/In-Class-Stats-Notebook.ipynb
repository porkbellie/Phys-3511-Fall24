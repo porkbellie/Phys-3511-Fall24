{
 "cells": [
  {
   "cell_type": "code",
   "execution_count": 36,
   "id": "6a3e582b",
   "metadata": {},
   "outputs": [],
   "source": [
    "import numpy as np\n",
    "import scipy\n",
    "import scipy.stats as st\n",
    "import matplotlib.pyplot as plt\n",
    "%matplotlib inline"
   ]
  },
  {
   "cell_type": "markdown",
   "id": "5b2a44bd",
   "metadata": {},
   "source": [
    "# PMF\n",
    "\n",
    "Let's look at the example where we flipped a fair coin 3 times and calculate the PMF using the **pmf** function from the **scipy.stats** library.\n",
    "\n",
    ">scipy.stats.binom.pmf(#Heads, # of flips, prob. of Heads/Tails)\n",
    "\n",
    "binom is short for binomial distribution, which the PMF here follows. More on the distribution later."
   ]
  },
  {
   "cell_type": "code",
   "execution_count": 39,
   "id": "ca0ebaf8",
   "metadata": {},
   "outputs": [
    {
     "name": "stdout",
     "output_type": "stream",
     "text": [
      "P( 0 Heads) =  0.12499999999999999\n",
      "P( 1 Heads) =  0.37500000000000033\n",
      "P( 2 Heads) =  0.3750000000000003\n",
      "P( 3 Heads) =  0.125\n"
     ]
    }
   ],
   "source": [
    "n =3\n",
    "p = 0.5\n",
    "i = 0\n",
    "while (i <= n):\n",
    "    print('P(',i,'Heads) = ',st.binom.pmf(i,n,p)) #frequency, number of flips, probability of Heads or Tails\n",
    "    i += 1\n",
    "    "
   ]
  },
  {
   "cell_type": "markdown",
   "id": "9c40e543",
   "metadata": {},
   "source": [
    "We can generate a random array of values governed by this distribution which should reproduce our PMFs found above. This can be done with the **rvs** function from the **scipy.stats** library:\n",
    "\n",
    "> scipy.stats.binom.rvs(# flips per trial, probability of Heads/Tails, # trials)"
   ]
  },
  {
   "cell_type": "code",
   "execution_count": 92,
   "id": "7363fe5b",
   "metadata": {},
   "outputs": [
    {
     "name": "stdout",
     "output_type": "stream",
     "text": [
      "[1 2 0 1 1 0 1 1 1 2 1 2 1 3 0 2 1 2 1 1 2 3 1 2 3 3 0 0 1 3 0 1 3 2 2 1 2\n",
      " 2 0 2 3 2 1 2 0 1 3 1 1 1 0 2 1 1 1 0 2 1 2 2 0 1 2 1 0 2 2 2 3 2 3 1 1 2\n",
      " 1 1 3 1 2 2 3 2 2 1 1 3 1 3 2 2 0 3 1 2 1 1 3 2 0 2 1 2 3 1 3 2 0 3 2 3 1\n",
      " 1 3 2 0 2 2 3 2 0 0 0 0 1 2 2 2 2 0 1 2 3 2 0 2 1 2 1 2 2 2 1 0 0 0 0 1 2\n",
      " 2 0 0 3 2 1 1 2 1 2 3 2 1 1 2 2 1 0 0 1 2 2 1 3 2 1 2 2 2 1 0 1 2 1 2 0 1\n",
      " 2 1 2 2 3 1 0 2 2 3 3 0 1 2 3 3 2 3 2 1 1 2 2 3 3 1 3 1 1 1 2 0 3 2 0 1 1\n",
      " 1 2 1 3 2 3 2 3 1 2 2 1 1 2 0 2 1 2 1 3 2 1 2 2 0 1 2 3 0 3 1 3 2 2 2 2 1\n",
      " 2 2 2 2 2 2 1 2 1 1 1 1 1 2 1 3 2 1 1 1 2 3 3 2 1 1 2 2 2 2 2 2 2 2 1 1 0\n",
      " 1 0 3 1 2 2 2 2 1 1 1 1 2 1 3 3 1 0 1 1 2 1 1 2 1 2 1 0 2 1 1 2 2 2 1 2 1\n",
      " 2 2 0 1 2 2 2 2 3 2 2 0 2 2 2 2 0 2 2 1 1 2 1 2 1 2 3 1 1 3 2 3 2 3 2 2 1\n",
      " 1 0 1 2 0 1 2 2 2 1 1 2 3 1 1 1 2 1 0 2 1 2 1 0 2 2 1 2 2 2 3 2 0 2 1 3 1\n",
      " 1 0 1 0 2 2 2 2 1 2 1 2 2 1 0 0 0 1 0 0 2 1 2 1 1 1 1 2 1 3 0 2 1 2 0 2 0\n",
      " 3 3 2 3 1 1 1 2 3 3 2 2 3 1 1 1 0 2 1 1 2 1 3 1 2 1 3 1 1 2 3 0 2 3 0 2 1\n",
      " 2 2 2 1 2 1 0 2 1 2 3 1 1 1 3 3 2 3 1 0 1 1 1 2 1 2 1 2 1 2 1 0 1 2 1 2 1\n",
      " 2 3 2 2 3 3 2 0 0 0 1 1 3 1 3 2 2 2 2 1 0 1 1 2 1 1 1 0 2 1 3 1 1 2 2 1 0\n",
      " 1 2 2 2 1 0 2 2 0 2 2 1 3 2 0 1 2 2 2 2 2 1 2 2 1 2 1 2 1 2 1 2 1 1 2 1 2\n",
      " 2 1 1 1 1 1 0 0 2 2 0 1 1 3 2 2 1 2 1 3 2 1 1 3 1 1 1 1 1 2 1 2 2 1 2 2 2\n",
      " 2 1 2 3 1 2 0 2 1 1 1 0 3 1 2 1 1 1 0 2 1 1 0 2 0 3 1 2 0 2 1 2 2 1 2 1 2\n",
      " 2 1 2 0 2 2 1 2 2 3 1 0 3 2 2 2 2 2 1 2 2 2 1 2 0 2 3 1 0 1 1 3 2 1 1 1 2\n",
      " 1 1 1 2 1 1 2 1 1 1 2 3 1 2 1 2 1 1 3 2 2 2 1 2 0 2 3 2 1 2 1 2 2 3 2 2 0\n",
      " 3 0 1 3 0 2 2 1 1 2 1 1 3 3 1 2 1 2 1 2 1 3 1 0 1 0 2 2 2 2 2 2 2 1 2 1 1\n",
      " 1 1 1 1 3 1 3 2 1 2 2 1 2 1 1 1 2 1 2 1 2 1 2 3 1 2 3 1 3 1 2 2 1 0 1 3 1\n",
      " 2 1 1 1 2 2 2 1 2 1 1 1 1 0 2 2 2 2 1 1 2 3 1 1 1 1 1 1 1 2 2 1 2 1 2 1 2\n",
      " 2 2 0 1 3 3 2 1 2 2 1 1 2 2 2 2 3 0 3 0 1 1 0 2 0 1 0 2 2 1 1 2 1 2 1 2 0\n",
      " 2 1 1 1 1 1 3 1 2 2 3 1 1 3 0 3 2 1 3 0 2 0 2 1 2 3 2 1 2 2 1 2 1 1 1 2 1\n",
      " 1 3 2 1 1 0 1 0 1 2 3 0 2 1 2 1 0 1 2 1 2 1 1 0 1 1 2 0 1 0 0 2 1 1 2 3 2\n",
      " 2 3 0 0 1 1 3 1 2 3 1 3 1 1 1 2 1 2 1 0 2 1 1 2 2 0 2 3 2 1 2 1 2 3 1 2 1\n",
      " 2]\n"
     ]
    },
    {
     "data": {
      "image/png": "[encoded data removed]",
      "text/plain": [
       "<Figure size 640x480 with 1 Axes>"
      ]
     },
     "metadata": {},
     "output_type": "display_data"
    }
   ],
   "source": [
    "np.random.seed(1)\n",
    "n = 3\n",
    "p = 0.5\n",
    "trials=1000\n",
    "outcome = st.binom.rvs(n,p,size=trials)\n",
    "\n",
    "print(outcome)\n",
    "\n",
    "#plot it\n",
    "fig = plt.figure('Coin Toss PMF')\n",
    "ax = fig.add_axes([0.1,0.1,0.8,0.8])\n",
    "ax.hist(outcome,bins=n+1,range=(0,n+1),density=True);\n",
    "ax.set_xlabel('Number of Heads')\n",
    "\n",
    "ax = plt.gca(); # get axis handle"
   ]
  },
  {
   "cell_type": "code",
   "execution_count": 44,
   "id": "78db9121",
   "metadata": {},
   "outputs": [
    {
     "name": "stdout",
     "output_type": "stream",
     "text": [
      "0  Heads:  0.119\n",
      "1  Heads:  0.375\n",
      "2  Heads:  0.382\n",
      "3  Heads:  0.124\n",
      "Total: 1.0\n"
     ]
    }
   ],
   "source": [
    "#NB 1\n",
    "#get bin contents\n",
    "\n",
    "p = ax.patches\n",
    "Ptotal = 0.0\n",
    "for i in range (len(p)):\n",
    "    Pi = p[i].get_height()*p[i].get_width()\n",
    "    print(i,' Heads: ',Pi)\n",
    "    Ptotal += Pi\n",
    "print('Total:', Ptotal)    "
   ]
  },
  {
   "cell_type": "markdown",
   "id": "45a3bcfe",
   "metadata": {},
   "source": [
    "# Joint PMF"
   ]
  },
  {
   "cell_type": "code",
   "execution_count": 47,
   "id": "d86cd996",
   "metadata": {},
   "outputs": [],
   "source": [
    "# rolling a die once and getting an even number or an odd number\n",
    "evens = np.array([2, 4, 6])\n",
    "odds = np.array([1, 3, 5])\n",
    "greater_than_two = np.array([3, 4, 5, 6])\n",
    "all_possible_rolls = np.array([1, 2, 3, 4, 5, 6])"
   ]
  },
  {
   "cell_type": "markdown",
   "id": "5c0aca17",
   "metadata": {},
   "source": [
    "The probability of rolling an even numberm, odd number, and number larger than 2:"
   ]
  },
  {
   "cell_type": "code",
   "execution_count": 50,
   "id": "1cc241a3",
   "metadata": {},
   "outputs": [
    {
     "name": "stdout",
     "output_type": "stream",
     "text": [
      "Prob. of rolling an even number:  0.5\n",
      "Prob. of rolling an odd number:  0.5\n",
      "Prob. of rolling an number > 2:  0.6666666666666666\n"
     ]
    }
   ],
   "source": [
    "prob_evens = len(evens)/len(all_possible_rolls)\n",
    "prob_odds = len(odds)/len(all_possible_rolls)\n",
    "prob_greater_than_two = len(greater_than_two)/len(all_possible_rolls)\n",
    "\n",
    "print('Prob. of rolling an even number: ',prob_evens)\n",
    "print('Prob. of rolling an odd number: ',prob_odds)\n",
    "print('Prob. of rolling an number > 2: ',prob_greater_than_two)"
   ]
  },
  {
   "cell_type": "markdown",
   "id": "dd7dac81",
   "metadata": {},
   "source": [
    "To find the probability of rolling an even number **and** number greater than 2, we will use Numpy's **intersect1d** method that returns common 1D array elements."
   ]
  },
  {
   "cell_type": "code",
   "execution_count": 53,
   "id": "9ea2d8ff",
   "metadata": {},
   "outputs": [
    {
     "name": "stdout",
     "output_type": "stream",
     "text": [
      "intersection [4 6]\n",
      "Prob. of rolling an even number and > 2:  0.3333333333333333\n"
     ]
    }
   ],
   "source": [
    "intersect = np.intersect1d(evens,greater_than_two)\n",
    "print('intersection',intersect)\n",
    "\n",
    "prob_even_greater_than_two = len(intersect)/len(all_possible_rolls)\n",
    "print('Prob. of rolling an even number and > 2: ',prob_even_greater_than_two)"
   ]
  },
  {
   "cell_type": "markdown",
   "id": "b4159017",
   "metadata": {},
   "source": [
    "The probability of rolling an even number **or** number greater than 2:"
   ]
  },
  {
   "cell_type": "code",
   "execution_count": 56,
   "id": "634206fe",
   "metadata": {},
   "outputs": [
    {
     "name": "stdout",
     "output_type": "stream",
     "text": [
      "Prob. of rolling an even number or > 2:  0.8333333333333333\n"
     ]
    }
   ],
   "source": [
    "prob_or = prob_evens + prob_greater_than_two - prob_even_greater_than_two\n",
    "print('Prob. of rolling an even number or > 2: ',prob_or)"
   ]
  },
  {
   "cell_type": "markdown",
   "id": "e6eb6abb",
   "metadata": {},
   "source": [
    "# CDF \n",
    "\n",
    "Let's find the CDF of getting 1 or 2 heads. To do this we will use the **cdf** function from the **scipy.stats** library:\n",
    "> scipy.stats.binom.cdf(x, n, p)\n",
    "\n",
    "* x = value of interest. Looking for this value **or** less\n",
    "* n = sample size (how many times did we flip the coin)\n",
    "* p = event probability (probability of getting Heads or Tails)"
   ]
  },
  {
   "cell_type": "code",
   "execution_count": 59,
   "id": "46321a56",
   "metadata": {},
   "outputs": [
    {
     "name": "stdout",
     "output_type": "stream",
     "text": [
      "0.75\n"
     ]
    }
   ],
   "source": [
    "print(st.binom.cdf(2,3,0.5) - st.binom.cdf(0,3,0.5))"
   ]
  },
  {
   "cell_type": "code",
   "execution_count": 61,
   "id": "99c37e99",
   "metadata": {},
   "outputs": [
    {
     "name": "stdout",
     "output_type": "stream",
     "text": [
      "0.7500000000000007\n"
     ]
    }
   ],
   "source": [
    "print(st.binom.pmf(1,3,0.5)+st.binom.pmf(2,3,0.5))"
   ]
  },
  {
   "cell_type": "markdown",
   "id": "23170d42",
   "metadata": {},
   "source": [
    "# <span style=\"color:red\">In Class Problem </span>\n",
    "\n",
    "### PMF\n",
    "If you roll a 6-sided dice 10 times, what is the probability of having the number 4 show up 6 times?\n",
    "Hint: use \n",
    ">st.binom.pmf()"
   ]
  },
  {
   "cell_type": "code",
   "execution_count": 83,
   "id": "10f7a91c",
   "metadata": {},
   "outputs": [
    {
     "name": "stdout",
     "output_type": "stream",
     "text": [
      "0.002170635034039527\n"
     ]
    }
   ],
   "source": [
    "print(st.binom.pmf(6,10,(1/6)))"
   ]
  },
  {
   "cell_type": "markdown",
   "id": "bf60f4e4",
   "metadata": {},
   "source": [
    "### Bonus\n",
    "\n",
    "See if you can histogram the PMF distribution using \n",
    "> scipy.stats.binom.rvs()"
   ]
  },
  {
   "cell_type": "code",
   "execution_count": 104,
   "id": "f84019e9-2886-48e8-8523-182e2d64c8e3",
   "metadata": {},
   "outputs": [
    {
     "data": {
      "image/png": "[encoded data removed]",
      "text/plain": [
       "<Figure size 640x480 with 1 Axes>"
      ]
     },
     "metadata": {},
     "output_type": "display_data"
    }
   ],
   "source": [
    "n = 6\n",
    "p = 1/6\n",
    "trials = 10\n",
    "outcome = st.binom.rvs(n,p,size=trials)\n",
    "\n",
    "fig = plt.figure('Dice Roll PMF')\n",
    "ax = fig.add_axes([0.1,0.1,0.8,0.8])\n",
    "ax.hist(outcome,bins=n+1,range=(0,n+1),density=True);\n",
    "ax.set_xlabel('Dice Rolls')\n",
    "\n",
    "ax = plt.gca();"
   ]
  },
  {
   "cell_type": "code",
   "execution_count": null,
   "id": "acb9c376-81f6-42a3-8bbc-006fcf0bd951",
   "metadata": {},
   "outputs": [],
   "source": []
  }
 ],
 "metadata": {
  "kernelspec": {
   "display_name": "Python 3 (ipykernel)",
   "language": "python",
   "name": "python3"
  },
  "language_info": {
   "codemirror_mode": {
    "name": "ipython",
    "version": 3
   },
   "file_extension": ".py",
   "mimetype": "text/x-python",
   "name": "python",
   "nbconvert_exporter": "python",
   "pygments_lexer": "ipython3",
   "version": "3.12.4"
  }
 },
 "nbformat": 4,
 "nbformat_minor": 5
}
