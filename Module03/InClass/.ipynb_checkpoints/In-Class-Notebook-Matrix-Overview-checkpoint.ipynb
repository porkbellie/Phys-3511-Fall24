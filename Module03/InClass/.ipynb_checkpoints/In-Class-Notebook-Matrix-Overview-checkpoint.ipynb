{
 "cells": [
  {
   "cell_type": "code",
   "execution_count": null,
   "id": "1046f22f",
   "metadata": {},
   "outputs": [],
   "source": [
    "import numpy as np\n",
    "%matplotlib notebook"
   ]
  },
  {
   "cell_type": "markdown",
   "id": "fe064b7d",
   "metadata": {},
   "source": [
    "# Matrix Review"
   ]
  },
  {
   "cell_type": "markdown",
   "id": "32ab1ffd",
   "metadata": {},
   "source": [
    "Take the matricies:\n",
    "\n",
    "$\\bf{A} =\n",
    "\\begin{pmatrix}\n",
    "2 & 4 & -7\\\\\n",
    "3 & -3 & 0\\\\\n",
    "1 & 7 & 5\n",
    "\\end{pmatrix},\\;\\;\n",
    "\\bf{B} =\n",
    "\\begin{pmatrix}\n",
    "2 & 4\\\\\n",
    "3 & -3\\\\\n",
    "1 & 7\n",
    "\\end{pmatrix}, \\;\\;\n",
    "\\bf{C} =\n",
    "\\begin{pmatrix}\n",
    "-1 & 1\\\\\n",
    "1 & -1\n",
    "\\end{pmatrix}, \\;\\;\n",
    "\\bf{D} = \n",
    "\\begin{pmatrix}\n",
    "2 & 0\\\\\n",
    "-3 & 6\n",
    "\\end{pmatrix}\n",
    "$ \n",
    "\n",
    "Define the matricies as numpy arrays"
   ]
  },
  {
   "cell_type": "code",
   "execution_count": null,
   "id": "2a79ff35",
   "metadata": {},
   "outputs": [],
   "source": []
  },
  {
   "cell_type": "markdown",
   "id": "34e68189",
   "metadata": {},
   "source": [
    "1. Multiply $\\bf{A}$ by 2.5 "
   ]
  },
  {
   "cell_type": "code",
   "execution_count": null,
   "id": "df60132e",
   "metadata": {},
   "outputs": [],
   "source": []
  },
  {
   "cell_type": "markdown",
   "id": "498f92cf",
   "metadata": {},
   "source": [
    "2. Evaluate the product of $\\bf{C}\\cdot\\bf{A}$ \n",
    "\n",
    "Did you get an error? Do you know why? (Hint: look at the dimensions of the matrix)\n",
    "- Got an error. the matrices are 2x2 and 3x3, so can't multiply need number of rows to match columns of other "
   ]
  },
  {
   "cell_type": "code",
   "execution_count": null,
   "id": "a3b0a245",
   "metadata": {},
   "outputs": [],
   "source": []
  },
  {
   "cell_type": "markdown",
   "id": "6ae4c4c7",
   "metadata": {},
   "source": [
    "3. Evaluate the product of $\\bf{C}\\cdot\\bf{D}$ and then $\\bf{D}\\cdot\\bf{C}$. Do you get the same results? \n",
    "- different answers CD != DC"
   ]
  },
  {
   "cell_type": "code",
   "execution_count": null,
   "id": "ef09127a",
   "metadata": {},
   "outputs": [],
   "source": []
  },
  {
   "cell_type": "markdown",
   "id": "2c9c038a",
   "metadata": {},
   "source": [
    "4. Find the transpose of $\\bf{B}$"
   ]
  },
  {
   "cell_type": "code",
   "execution_count": null,
   "id": "cc53078b",
   "metadata": {},
   "outputs": [],
   "source": []
  },
  {
   "cell_type": "markdown",
   "id": "d0bb231c",
   "metadata": {},
   "source": [
    "5. Add $\\bf{C} + \\bf{D}$"
   ]
  },
  {
   "cell_type": "code",
   "execution_count": null,
   "id": "67c6fea8",
   "metadata": {},
   "outputs": [],
   "source": []
  },
  {
   "cell_type": "markdown",
   "id": "51215fe4",
   "metadata": {},
   "source": [
    "6. Compute the determinate of $\\bf{C}$"
   ]
  },
  {
   "cell_type": "code",
   "execution_count": null,
   "id": "cf9dd452",
   "metadata": {},
   "outputs": [],
   "source": []
  },
  {
   "cell_type": "markdown",
   "id": "7ada1b24",
   "metadata": {},
   "source": [
    "7. Compute the determinate of $\\bf{A}$"
   ]
  },
  {
   "cell_type": "code",
   "execution_count": null,
   "id": "32c185f8",
   "metadata": {},
   "outputs": [],
   "source": []
  }
 ],
 "metadata": {
  "kernelspec": {
   "display_name": "Python 3 (ipykernel)",
   "language": "python",
   "name": "python3"
  },
  "language_info": {
   "codemirror_mode": {
    "name": "ipython",
    "version": 3
   },
   "file_extension": ".py",
   "mimetype": "text/x-python",
   "name": "python",
   "nbconvert_exporter": "python",
   "pygments_lexer": "ipython3",
   "version": "3.9.13"
  }
 },
 "nbformat": 4,
 "nbformat_minor": 5
}
