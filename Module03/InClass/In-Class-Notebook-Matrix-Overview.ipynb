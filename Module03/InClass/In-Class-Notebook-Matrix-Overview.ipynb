{
 "cells": [
  {
   "cell_type": "code",
   "execution_count": 31,
   "id": "1046f22f",
   "metadata": {},
   "outputs": [],
   "source": [
    "import numpy as np\n",
    "%matplotlib inline"
   ]
  },
  {
   "cell_type": "markdown",
   "id": "fe064b7d",
   "metadata": {},
   "source": [
    "# Matrix Review"
   ]
  },
  {
   "cell_type": "markdown",
   "id": "32ab1ffd",
   "metadata": {},
   "source": [
    "Take the matricies:\n",
    "\n",
    "$\\bf{A} =\n",
    "\\begin{pmatrix}\n",
    "2 & 4 & -7\\\\\n",
    "3 & -3 & 0\\\\\n",
    "1 & 7 & 5\n",
    "\\end{pmatrix},\\;\\;\n",
    "\\bf{B} =\n",
    "\\begin{pmatrix}\n",
    "2 & 4\\\\\n",
    "3 & -3\\\\\n",
    "1 & 7\n",
    "\\end{pmatrix}, \\;\\;\n",
    "\\bf{C} =\n",
    "\\begin{pmatrix}\n",
    "-1 & 1\\\\\n",
    "1 & -1\n",
    "\\end{pmatrix}, \\;\\;\n",
    "\\bf{D} = \n",
    "\\begin{pmatrix}\n",
    "2 & 0\\\\\n",
    "-3 & 6\n",
    "\\end{pmatrix}\n",
    "$ \n",
    "\n",
    "Define the matricies as numpy arrays"
   ]
  },
  {
   "cell_type": "code",
   "execution_count": 35,
   "id": "2a79ff35",
   "metadata": {},
   "outputs": [
    {
     "name": "stdout",
     "output_type": "stream",
     "text": [
      "A:\n",
      " [[ 2  4 -7]\n",
      " [ 3 -3  0]\n",
      " [ 1  7  5]]\n",
      "B:\n",
      " [[ 2  4]\n",
      " [ 3 -3]\n",
      " [ 1  7]]\n",
      "C:\n",
      " [[-1  1]\n",
      " [ 1 -1]]\n",
      "D:\n",
      " [[ 2  0]\n",
      " [-3  6]]\n"
     ]
    }
   ],
   "source": [
    "A = np.array([[2,4,-7],[3,-3,0],[1,7,5]])\n",
    "B = np.array([ [2,4],[3,-3],[1,7] ])\n",
    "C = np.array([ [-1,1],[1,-1] ])\n",
    "D = np.array([ [2,0],[-3,6] ])\n",
    "\n",
    "print(\"A:\\n\", A)\n",
    "print(\"B:\\n\", B)\n",
    "print(\"C:\\n\", C)\n",
    "print(\"D:\\n\", D)"
   ]
  },
  {
   "cell_type": "markdown",
   "id": "34e68189",
   "metadata": {},
   "source": [
    "1. Multiply $\\bf{A}$ by 2.5 "
   ]
  },
  {
   "cell_type": "code",
   "execution_count": 38,
   "id": "df60132e",
   "metadata": {},
   "outputs": [
    {
     "name": "stdout",
     "output_type": "stream",
     "text": [
      "[[  5.   10.  -17.5]\n",
      " [  7.5  -7.5   0. ]\n",
      " [  2.5  17.5  12.5]]\n"
     ]
    }
   ],
   "source": [
    "c = 2.5\n",
    "cA = c*A\n",
    "print(cA)"
   ]
  },
  {
   "cell_type": "markdown",
   "id": "498f92cf",
   "metadata": {},
   "source": [
    "2. Evaluate the product of $\\bf{C}\\cdot\\bf{A}$ \n",
    "\n",
    "Did you get an error? Do you know why? (Hint: look at the dimensions of the matrix)\n",
    "- Got an error. the matrices are 2x2 and 3x3, so can't multiply need number of rows to match columns of other "
   ]
  },
  {
   "cell_type": "code",
   "execution_count": 41,
   "id": "a3b0a245",
   "metadata": {},
   "outputs": [
    {
     "ename": "ValueError",
     "evalue": "matmul: Input operand 1 has a mismatch in its core dimension 0, with gufunc signature (n?,k),(k,m?)->(n?,m?) (size 3 is different from 2)",
     "output_type": "error",
     "traceback": [
      "\u001b[0;31m---------------------------------------------------------------------------\u001b[0m",
      "\u001b[0;31mValueError\u001b[0m                                Traceback (most recent call last)",
      "Cell \u001b[0;32mIn[41], line 1\u001b[0m\n\u001b[0;32m----> 1\u001b[0m CA_multiply \u001b[38;5;241m=\u001b[39m np\u001b[38;5;241m.\u001b[39mmatmul(C,A)\n\u001b[1;32m      2\u001b[0m \u001b[38;5;28mprint\u001b[39m(CA_multiply)\n",
      "\u001b[0;31mValueError\u001b[0m: matmul: Input operand 1 has a mismatch in its core dimension 0, with gufunc signature (n?,k),(k,m?)->(n?,m?) (size 3 is different from 2)"
     ]
    }
   ],
   "source": [
    "CA_multiply = np.matmul(C,A)\n",
    "print(CA_multiply)"
   ]
  },
  {
   "cell_type": "markdown",
   "id": "6ae4c4c7",
   "metadata": {},
   "source": [
    "3. Evaluate the product of $\\bf{C}\\cdot\\bf{D}$ and then $\\bf{D}\\cdot\\bf{C}$. Do you get the same results? \n",
    "- different answers CD != DC"
   ]
  },
  {
   "cell_type": "code",
   "execution_count": 44,
   "id": "ef09127a",
   "metadata": {},
   "outputs": [
    {
     "name": "stdout",
     "output_type": "stream",
     "text": [
      "CD:\n",
      " [[-5  6]\n",
      " [ 5 -6]]\n",
      "DC:\n",
      " [[-2  2]\n",
      " [ 9 -9]]\n"
     ]
    }
   ],
   "source": [
    "CD_multiply = np.matmul(C,D)\n",
    "DC_multiply = np.matmul(D,C)\n",
    "\n",
    "print(\"CD:\\n\", CD_multiply)\n",
    "print(\"DC:\\n\", DC_multiply)"
   ]
  },
  {
   "cell_type": "markdown",
   "id": "2c9c038a",
   "metadata": {},
   "source": [
    "4. Find the transpose of $\\bf{B}$"
   ]
  },
  {
   "cell_type": "code",
   "execution_count": 47,
   "id": "cc53078b",
   "metadata": {},
   "outputs": [
    {
     "name": "stdout",
     "output_type": "stream",
     "text": [
      "[[ 2  3  1]\n",
      " [ 4 -3  7]]\n"
     ]
    }
   ],
   "source": [
    "B_T = B.T\n",
    "print(B_T)"
   ]
  },
  {
   "cell_type": "markdown",
   "id": "d0bb231c",
   "metadata": {},
   "source": [
    "5. Add $\\bf{C} + \\bf{D}$"
   ]
  },
  {
   "cell_type": "code",
   "execution_count": 50,
   "id": "67c6fea8",
   "metadata": {},
   "outputs": [
    {
     "name": "stdout",
     "output_type": "stream",
     "text": [
      "[[ 1  1]\n",
      " [-2  5]]\n"
     ]
    }
   ],
   "source": [
    "CD_add = C + D\n",
    "print(CD_add)"
   ]
  },
  {
   "cell_type": "markdown",
   "id": "51215fe4",
   "metadata": {},
   "source": [
    "6. Compute the determinate of $\\bf{C}$"
   ]
  },
  {
   "cell_type": "code",
   "execution_count": 59,
   "id": "cf9dd452",
   "metadata": {},
   "outputs": [
    {
     "name": "stdout",
     "output_type": "stream",
     "text": [
      "0.0\n"
     ]
    }
   ],
   "source": [
    "detC = np.linalg.det(C)\n",
    "print(detC)"
   ]
  },
  {
   "cell_type": "markdown",
   "id": "7ada1b24",
   "metadata": {},
   "source": [
    "7. Compute the determinate of $\\bf{A}$"
   ]
  },
  {
   "cell_type": "code",
   "execution_count": 62,
   "id": "32c185f8",
   "metadata": {},
   "outputs": [
    {
     "name": "stdout",
     "output_type": "stream",
     "text": [
      "-257.9999999999998\n"
     ]
    }
   ],
   "source": [
    "detA = np.linalg.det(A)\n",
    "print(detA)"
   ]
  }
 ],
 "metadata": {
  "kernelspec": {
   "display_name": "Python 3 (ipykernel)",
   "language": "python",
   "name": "python3"
  },
  "language_info": {
   "codemirror_mode": {
    "name": "ipython",
    "version": 3
   },
   "file_extension": ".py",
   "mimetype": "text/x-python",
   "name": "python",
   "nbconvert_exporter": "python",
   "pygments_lexer": "ipython3",
   "version": "3.12.4"
  }
 },
 "nbformat": 4,
 "nbformat_minor": 5
}
