{
 "cells": [
  {
   "cell_type": "markdown",
   "id": "237d3de1",
   "metadata": {},
   "source": [
    "# Eigenvalues and Eigenvectors"
   ]
  },
  {
   "cell_type": "code",
   "execution_count": 3,
   "id": "07483e17",
   "metadata": {},
   "outputs": [],
   "source": [
    "import numpy as np\n",
    "import matplotlib.pyplot as plt\n",
    "%matplotlib notebook"
   ]
  },
  {
   "cell_type": "markdown",
   "id": "dcf8f1d9",
   "metadata": {},
   "source": [
    "# Math Theory\n",
    "\n",
    "\n"
   ]
  },
  {
   "cell_type": "markdown",
   "id": "7a16106f",
   "metadata": {},
   "source": [
    "## Math Example\n",
    "\n",
    "\n",
    "$$\\vec{A} = \n",
    "\\begin{pmatrix}\n",
    " 0 &  1\\\\\n",
    "-2 & -3\n",
    "\\end{pmatrix}\n",
    "$$\n",
    "\n",
    "Find the eigenvalues and eigenvectors for the equation:\n",
    "\n",
    "$$(\\vec{A} - \\lambda\\vec{I})\\vec{v} = 0,$$\n",
    "where $\\vec{v}$ are the eigenvectors and $\\lambda$ is the eigenvalues. This matrix equation has the well-known property that it has a nonzero solution if and only if its determinate is zero.\n",
    "\n",
    "### The Eigenvalues\n",
    "The **characteristic equation**: \n",
    "$$\n",
    "\\begin{vmatrix}\n",
    "\\vec{A} - \\lambda\\vec{I}\n",
    "\\end{vmatrix} = 0\n",
    "$$\n",
    "\n",
    "$$\n",
    "\\begin{vmatrix}\n",
    "\\vec{A} - \\lambda\\vec{I}\n",
    "\\end{vmatrix} = \n",
    "\\begin{vmatrix}\n",
    "0 - \\lambda   &   1\\\\\n",
    "-2            &  -3-\\lambda\n",
    "\\end{vmatrix} = -\\lambda(-3-\\lambda) -(1)(-2) = \\lambda^2 + 3\\lambda + 2 = (\\lambda +1)(\\lambda +2) = 0\n",
    "$$\n",
    "\n",
    "$$ \\rightarrow \\lambda_1 = -1$$\n",
    "$$ \\rightarrow \\lambda_2 = -2$$\n",
    "\n",
    "### The Eignevectors\n",
    "\n",
    "Plug each of the eigenvalues into our equation to calculate the two eigenvectors.\n",
    "\n",
    "### $\\bf{\\vec{v}_{1}}$:\n",
    "$$\n",
    "(\\vec{A} - \\lambda_1\\vec{I})\\vec{v}_1 = 0\n",
    "$$\n",
    "\n",
    "$$\n",
    "\\begin{pmatrix}\n",
    "0 - \\lambda_1   &   1\\\\\n",
    "-2            &  -3-\\lambda_1\n",
    "\\end{pmatrix} = \n",
    "\\begin{pmatrix}\n",
    "-1   &   1\\\\\n",
    "-2   &  -2\n",
    "\\end{pmatrix}\n",
    "\\begin{pmatrix}\n",
    "a_1\\\\\n",
    "a_2\n",
    "\\end{pmatrix}\n",
    "$$\n",
    "\n",
    "$$\\rightarrow a_1 = a_2$$\n",
    "$$\\rightarrow a_1 = -a_2$$\n",
    "\n",
    "$$\n",
    "\\vec{v_1} = A_1 \n",
    "\\begin{pmatrix}\n",
    "1\\\\\n",
    "-1\n",
    "\\end{pmatrix},\n",
    "$$\n",
    "\n",
    "where $A_1$ is an arbitrary constant.\n",
    "\n",
    "### $\\bf{\\vec{v}_{2}}$:\n",
    "We do the same procedure using $\\lambda_2$ to find the second eigenvector, $\\vec{v_2}$\n",
    "\n",
    "$$\n",
    "\\vec{v_2} = A_2 \n",
    "\\begin{pmatrix}\n",
    "1\\\\\n",
    "-2\n",
    "\\end{pmatrix},\n",
    "$$\n",
    "where $A_2$ is an arbitrary constant.\n"
   ]
  },
  {
   "cell_type": "markdown",
   "id": "c156c70d",
   "metadata": {},
   "source": [
    "### In Python:"
   ]
  },
  {
   "cell_type": "code",
   "execution_count": 11,
   "id": "d71db523",
   "metadata": {},
   "outputs": [
    {
     "name": "stdout",
     "output_type": "stream",
     "text": [
      "[[ 0  1]\n",
      " [-2 -3]]\n"
     ]
    }
   ],
   "source": [
    "A = np.array([[0,1],[-2,-3]])\n",
    "print(A)"
   ]
  },
  {
   "cell_type": "code",
   "execution_count": 12,
   "id": "78c8aea8",
   "metadata": {},
   "outputs": [
    {
     "name": "stdout",
     "output_type": "stream",
     "text": [
      "E-value: [-1. -2.]\n",
      "E-vector [[ 0.70710678 -0.4472136 ]\n",
      " [-0.70710678  0.89442719]]\n"
     ]
    }
   ],
   "source": [
    "w,v = np.linalg.eig(A)\n",
    "print('E-value:', w)\n",
    "print('E-vector', v)"
   ]
  },
  {
   "cell_type": "markdown",
   "id": "36712bfc",
   "metadata": {},
   "source": [
    "Note that we get a different numerical answer for the eigenvectors in python than we calculated. However, the ratio of the values $a_1$ and $a_2$ are the same as what we found and that is what is unique.\n",
    "\n",
    "Python normalized the eignevectors to equal unity if you add them in quadriature.\n",
    "From python:\n",
    "$$\n",
    "\\vec{v_1} = \\frac{1}{\\sqrt{2}} \n",
    "\\begin{pmatrix}\n",
    "1\\\\\n",
    "-1\n",
    "\\end{pmatrix},\\;\\;\n",
    "\\vec{v_2} = \\frac{1}{\\sqrt{5}} \n",
    "\\begin{pmatrix}\n",
    "-1\\\\\n",
    "2\n",
    "\\end{pmatrix}\n",
    "$$"
   ]
  },
  {
   "cell_type": "code",
   "execution_count": null,
   "id": "8395594f",
   "metadata": {},
   "outputs": [],
   "source": []
  }
 ],
 "metadata": {
  "kernelspec": {
   "display_name": "Python 3 (ipykernel)",
   "language": "python",
   "name": "python3"
  },
  "language_info": {
   "codemirror_mode": {
    "name": "ipython",
    "version": 3
   },
   "file_extension": ".py",
   "mimetype": "text/x-python",
   "name": "python",
   "nbconvert_exporter": "python",
   "pygments_lexer": "ipython3",
   "version": "3.9.13"
  }
 },
 "nbformat": 4,
 "nbformat_minor": 5
}
